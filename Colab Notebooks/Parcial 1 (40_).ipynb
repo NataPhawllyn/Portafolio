{
 "cells": [
  {
   "cell_type": "markdown",
   "metadata": {},
   "source": [
    "# Parcial 1 EDP"
   ]
  },
  {
   "cell_type": "markdown",
   "metadata": {},
   "source": [
    "Teorema 1. La EDP de segundo orden lineal \n",
    "\n",
    "$$a u_{x x}+2 b u_{x t}+c u_{t t}+d u_{x}+e u_{t}+f u=g$$\n",
    "\n",
    "es de tipo\n",
    "\n",
    "a) Eliptico si $\\operatorname{det}(\\boldsymbol{Q})>0$.\n",
    "\n",
    "b) Hiperbólico si $\\operatorname{det}(\\boldsymbol{Q})<0$.\n",
    "\n",
    "c) Parabólico $s i \\operatorname{det}(Q)=0$.\n",
    "\n",
    "Donde $Q=\\left(\\begin{array}{ll}a & b \\\\ b & c\\end{array}\\right)$ es la matriz simétrica asociada a la parte cuadrática"
   ]
  },
  {
   "cell_type": "markdown",
   "metadata": {},
   "source": [
    "$1.$ De acuerdo al resultado anterior demuestre de que tipo es la ecuación:\n",
    "\n",
    "Nataly\n",
    "\n",
    "$a.$ Del calor\n",
    "\n",
    "$b.$ $ \\frac{\\partial^{2} u}{\\partial x^{2}}+6 \\frac{\\partial^{2} u}{\\partial x \\partial y}+C \\frac{\\partial^{2} u}{\\partial y^{2}}+D \\frac{\\partial u}{\\partial x}+E \\frac{\\partial u}{\\partial y}+F u=G$, en función de los parámetros necesarios.\n",
    "\n",
    "David\n",
    "\n",
    "$a.$ De onda\n",
    "\n",
    "$b.$ $A \\frac{\\partial^{2} u}{\\partial x^{2}}+ \\frac{\\partial^{2} u}{\\partial x \\partial y}-14 \\frac{\\partial^{2} u}{\\partial y^{2}}+D \\frac{\\partial u}{\\partial x}+E \\frac{\\partial u}{\\partial y}+F u=G$, en función de los parámetros necesarios.\n",
    "\n",
    "\n",
    "Jeisson\n",
    "\n",
    "$a.$ De Helmontz\n",
    "\n",
    "$b.$ $A^2 \\frac{\\partial^{2} u}{\\partial x^{2}}+ 20\\frac{\\partial^{2} u}{\\partial x \\partial y}-3C \\frac{\\partial^{2} u}{\\partial y^{2}}-D \\frac{\\partial u}{\\partial x}+E \\frac{\\partial u}{\\partial y}+F u=G$, en función de los parámetros necesarios.\n",
    "\n",
    "\n",
    "Anderson\n",
    "\n",
    "$a.$ De Poison\n",
    "\n",
    "$b.$ $ 2\\frac{\\partial^{2} u}{\\partial x^{2}}+B \\frac{\\partial^{2} u}{\\partial x \\partial y}-C \\frac{\\partial^{2} u}{\\partial y^{2}}+D \\frac{\\partial u}{\\partial x}+3E \\frac{\\partial u}{\\partial y}-F u=G$, en función de los parámetros necesarios.\n",
    "\n",
    "\n",
    "Diego\n",
    "\n",
    "$a.$ Del calor\n",
    "\n",
    "$b.$ $3 \\frac{\\partial^{2} u}{\\partial x^{2}}+B \\frac{\\partial^{2} u}{\\partial x \\partial y}+7 \\frac{\\partial^{2} u}{\\partial y^{2}}+18 \\frac{\\partial u}{\\partial x}+E \\frac{\\partial u}{\\partial y}+F u=G$\n",
    "\n",
    "\n",
    "Andres\n",
    "\n",
    "$a.$ De onda\n",
    "\n",
    "$b.$ $-A \\frac{\\partial^{2} u}{\\partial x^{2}}+A \\frac{\\partial^{2} u}{\\partial x \\partial y}+ \\frac{\\partial^{2} u}{\\partial y^{2}}+D \\frac{\\partial u}{\\partial x}+E \\frac{\\partial u}{\\partial y}+F u=0$, en función de los parámetros necesarios.\n",
    "\n",
    "\n",
    "Yudy\n",
    "\n",
    "$a.$ De Laplace\n",
    "\n",
    "$b.$ $ 12\\frac{\\partial^{2} u}{\\partial x^{2}}+B \\frac{\\partial^{2} u}{\\partial x \\partial y}-B \\frac{\\partial^{2} u}{\\partial y^{2}}+D \\frac{\\partial u}{\\partial x}+28 \\frac{\\partial u}{\\partial y}+F u=20.0000$, en función de los parámetros necesarios.\n",
    "\n"
   ]
  },
  {
   "cell_type": "markdown",
   "metadata": {},
   "source": [
    "_______________________________________________________________________________________"
   ]
  },
  {
   "cell_type": "markdown",
   "metadata": {},
   "source": [
    "______________________________________________________________________________________"
   ]
  },
  {
   "cell_type": "markdown",
   "metadata": {},
   "source": [
    "Se le llama $\\textbf{problema}$ a una ecuación diferencial parcial junto con un conjunto de condiciones dadas. Suponiendo una ecuación de la forma:\n",
    "\n",
    "$$\n",
    "F\\left(x, t, u, u_{x}, u_{t}, u_{x x}, u_{x t}, u_{t t}\\right)=0  \\quad (1)\n",
    "$$\n",
    "\n",
    "i.e. una EDP de segundo orden en dos variables, se definen los distintos problemas como:\n",
    "\n",
    "$\\textbf{Problema de Cauchy}$\n",
    "\n",
    "Este problema se conoce también como problema de valores iniciales. Dado el carácter de segundo orden en las derivadas respecto al tiempo $t$ de $(1),$ son necesarias dos condiciones sobre la solución $u(x, t)$. Estas son\n",
    "\n",
    "$$\n",
    "\\begin{aligned}\n",
    "u(x, 0) &=\\phi(x) \\\\\n",
    "u_{t}(x, 0) &=\\psi(x)\n",
    "\\end{aligned}\n",
    "$$\n",
    "\n",
    "donde $\\phi$ y $\\psi$ son funciones dadas en el intervalo de interés.\n",
    "\n",
    "$\\textbf{Problema de Dirichlet}$\n",
    "\n",
    "Este es un tipo de problema conocido como de valores en la frontera. Dado el carácter de segundo orden en las derivadas respecto a la posición $x$ de $(1),$ se necesitan dos condiciones sobre la solución $u(x, t)$. Suponiendo que se busca la solución para $a \\leq x \\leq b, t \\geq 0,$ éstas son\n",
    "\n",
    "$$\n",
    "\\begin{array}{l}\n",
    "u(a, t)=f(t) \\\\\n",
    "u(b, t)=g(t)\n",
    "\\end{array}\n",
    "$$\n",
    "\n",
    "donde $f$ y $g$ son funciones dadas, definidas para $t \\geq 0$.\n",
    "\n",
    "$\\textbf{Problema de Neumann}$\n",
    "\n",
    "Este es otro tipo de problema de valores en la frontera. Suponiendo que se busca la solución para $a \\leq x \\leq b, t \\geq 0$, las condiciones son en este caso\n",
    "\n",
    "$$\n",
    "\\begin{array}{l}\n",
    "u_{x}(a, t)=f(t) \\\\\n",
    "u_{x}(b, t)=g(t)\n",
    "\\end{array}\n",
    "$$\n",
    "\n",
    "donde $f$ y $g$ son funciones dadas, definidas para $t \\geq 0$.\n",
    "\n",
    "$\\textbf{Problema de Robin}$\n",
    "\n",
    "Este problema de valores en la frontera generaliza los dos anteriores. Suponiendo que se busca la solución para $a \\leq x \\leq b, t \\geq 0,$ las condiciones son\n",
    "\n",
    "$$\n",
    "\\begin{array}{l}\n",
    "A_{1} u(a, t)+B_{1} u_{x}(a, t)=f(t) \\\\\n",
    "A_{2} u(b, t)+B_{2} u_{x}(b, t)=g(t)\n",
    "\\end{array}\n",
    "$$\n",
    "\n",
    "donde $f$ y $g$ son funciones dadas, definidas para $t \\geq 0, y A_{1}, B_{1}, A_{2}$ y $B_{2}$ son constantes dadas."
   ]
  },
  {
   "cell_type": "markdown",
   "metadata": {},
   "source": [
    "$2.$ De acuerdo a la clasificación anterior escriba:\n",
    "\n",
    "\n",
    "\n",
    "$a.$ Un problema de 𝐃𝐢𝐫𝐢𝐜𝐡𝐥𝐞𝐭 para la ecuación de Schrodinger unidimensional con $V(x,t)$ un potencial que usted propone.\n",
    "\n",
    "$b.$ Un problema de Robin para la ecuación de Schrodinger con $V(x,t)$ un potencial independiente del tiempo y radial en el espacio tridimensional.\n",
    "\n",
    "$c.$ Una problema distinto a los anteriores para una EDP de cuarto grado que usted proponga.\n"
   ]
  },
  {
   "cell_type": "markdown",
   "metadata": {},
   "source": [
    "______________________________________________________________________________________"
   ]
  },
  {
   "cell_type": "markdown",
   "metadata": {},
   "source": [
    "______________________________________________________________________________________"
   ]
  },
  {
   "cell_type": "markdown",
   "metadata": {},
   "source": [
    "$3.$ Dada la función \n",
    "$$ f(x) = e ^ {r x} $$ \n",
    "\n",
    "$a.$ Expanda la función $ f (x)$ en una serie de Fourier válida para $-\\pi \\leq x \\leq \\pi$. \n",
    "\n",
    "\n",
    "$b.$ Grafique las sumas parciales de orden $ N = 10,20, $ y 30 de la serie de Fourier junto con la gráfica de $f$ sobre los intervalos $-\\pi \\leq x \\leq \\pi$ y $-2 \\pi \\leq x \\leq 2\\pi$, para el caso:\n",
    "\n",
    "\n",
    "Nataly\n",
    "\n",
    "$ r = 1/2, $\n",
    "\n",
    "David\n",
    "\n",
    "$ r = 1/3, $\n",
    "\n",
    "Jeisson\n",
    "\n",
    "$ r = 1/5, $\n",
    "\n",
    "Anderson\n",
    "\n",
    "$ r = 1/4, $\n",
    "\n",
    "\n",
    "Diego\n",
    "\n",
    "$ r = 1/20, $\n",
    "\n",
    "Andres\n",
    "\n",
    "$ r = 1/12, $\n",
    "\n",
    "Yudy\n",
    "\n",
    "$ r = 1/9, $\n",
    "\n",
    "\n",
    "$c.$ Utilice el ejercicio anterior para calcular los coeficientes de Fourier para las funciones \n",
    "$$ f (x) = \\sinh x = \\left(e ^ {x} -e ^ {- x} \\right)/2$$ \n",
    "\n",
    "y \n",
    "\n",
    "$$ f (x) = \\cosh(x) = \\left(e ^ {x} + e ^ {- x} \\right)/2$$ \n",
    "\n",
    "sobre el intervalo $ - \\pi \\leq x \\leq \\pi $"
   ]
  },
  {
   "cell_type": "markdown",
   "metadata": {},
   "source": [
    "_______________________________________________________________________________________"
   ]
  },
  {
   "cell_type": "markdown",
   "metadata": {},
   "source": [
    "_______________________________________________________________________________________"
   ]
  },
  {
   "cell_type": "markdown",
   "metadata": {},
   "source": [
    "$4.$ Para la función asignada:\n",
    "\n",
    "a-) Expanda la función dada en una serie de Fourier de cosenos válida en el\n",
    "intervalo $0 \\leq x \\leq \\pi $ y grafique la función y dos sumas parciales de su elección sobre el mismo intervalo.\n",
    "\n",
    "b-) Expanda la función dada en una serie de Fourier de senos válida en el\n",
    "intervalo $0 \\leq x \\leq \\pi $ y grafique la función y dos sumas parciales de su elección sobre el mismo intervalo.\n",
    "\n",
    "\n",
    "\n",
    "Nataly $f(x)=\\left\\{\\begin{array}{ll}0, & \\text { for }0 \\leq x<\\pi / 2 \\\\ x^{2}, & \\text { for } \\pi / 2 \\leq x \\leq \\pi\\end{array}\\right.$ \n",
    "\n",
    "David $f(x)=\\left\\{\\begin{array}{ll}\\sin \\pi x / 2, & \\text { for }0 \\leq x<\\pi / 2, \\\\ 0, & \\text { for } \\pi / 2 \\leq x \\leq \\pi\\end{array}\\right.$ \n",
    "\n",
    "Jeisson $f(x)=\\left\\{\\begin{array}{ll}\\cos \\pi x, & \\text { for }0 \\leq x<\\pi / 2, \\\\ 1, & \\text { for } \\pi / 2 \\leq x \\leq \\pi\\end{array}\\right.$ \n",
    "\n",
    "Anderson $f(x)=\\left\\{\\begin{array}{ll}1+x, & \\text { for }0 \\leq x<\\pi / 2, \\\\ 1-x, & \\text { for } \\pi / 2 \\leq x \\leq \\pi\\end{array}\\right.$ \n",
    "\n",
    "Diego $f(x)=\\left\\{\\begin{array}{ll}2+x, & \\text { for }0 \\leq x<\\pi / 2, \\\\ -2+x, & \\text { for } \\pi / 2 \\leq x \\leq \\pi\\end{array}\\right.$ \n",
    "\n",
    "Andres $f(x)=\\left\\{\\begin{array}{ll}0, & 0 \\leq x<\\pi / 2 \\\\ x, & \\pi / 2 \\leq x \\leq \\pi\\end{array}\\right.$ \n",
    "\n",
    "Yudy $f(x)=\\left\\{\\begin{array}{ll}0, & 0 \\leq x<\\pi / 2 \\\\ \\sin x, & \\pi / 2 \\leq x \\leq \\pi\\end{array}\\right.$ "
   ]
  },
  {
   "cell_type": "markdown",
   "metadata": {},
   "source": [
    "______________________________________________________________________________________"
   ]
  },
  {
   "cell_type": "markdown",
   "metadata": {},
   "source": [
    "_______________________________________________________________________________________"
   ]
  },
  {
   "cell_type": "markdown",
   "metadata": {},
   "source": [
    "$5.$ Use sus conocimientos sobre series de Fourier para encontrar la suma exacta para los siguientes valores particulares de la función $\\zeta(s)$ de Riemann. \n",
    "\n",
    "Nataly\n",
    "\n",
    "$$\\sum_{n=1}^{\\infty} \\frac{1}{n^{4}}$$\n",
    "\n",
    "David\n",
    "\n",
    "$$\\sum_{n=1}^{\\infty} \\frac{1}{n^{6}}$$\n",
    "\n",
    "\n",
    "\n",
    "Jeisson\n",
    "\n",
    "$$\\sum_{n=1}^{\\infty} \\frac{1}{n^{14}}$$\n",
    "\n",
    "\n",
    "\n",
    "Anderson\n",
    "\n",
    "$$\\sum_{n=1}^{\\infty} \\frac{1}{n^{12}}$$\n",
    "\n",
    "\n",
    "\n",
    "\n",
    "Diego\n",
    "\n",
    "$$\\sum_{n=1}^{\\infty} \\frac{1}{n^{8}}$$\n",
    "\n",
    "\n",
    "\n",
    "Andres\n",
    "\n",
    "$$\\sum_{n=1}^{\\infty} \\frac{1}{n^{10}}$$\n",
    "\n",
    "\n",
    "\n",
    "Yudy\n",
    "\n",
    "$$\\sum_{n=1}^{\\infty} \\frac{1}{(2n+1)^{4}}$$\n",
    "\n"
   ]
  },
  {
   "cell_type": "code",
   "execution_count": null,
   "metadata": {},
   "outputs": [],
   "source": []
  }
 ],
 "metadata": {
  "kernelspec": {
   "display_name": "Python 3 (ipykernel)",
   "language": "python",
   "name": "python3"
  },
  "language_info": {
   "codemirror_mode": {
    "name": "ipython",
    "version": 3
   },
   "file_extension": ".py",
   "mimetype": "text/x-python",
   "name": "python",
   "nbconvert_exporter": "python",
   "pygments_lexer": "ipython3",
   "version": "3.11.5"
  }
 },
 "nbformat": 4,
 "nbformat_minor": 4
}
