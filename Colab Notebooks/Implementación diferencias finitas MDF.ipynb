{
 "cells": [
  {
   "cell_type": "markdown",
   "metadata": {
    "id": "J8d4rnZxCIYx"
   },
   "source": [
    "# Implementacion de diferencias  finitas  en  una  dimensión.\n",
    "**Nataly Neira  , cod: 614212782**\n",
    "**Juan Sebastián Vargas Arévalo cod: 6142121007**"
   ]
  },
  {
   "cell_type": "markdown",
   "metadata": {
    "id": "8nxJ9ZzyYiJO"
   },
   "source": [
    "\n",
    "1. Implemente la condición de frontera tipo Robin:\n",
    "\n",
    "$au' +k_{izq}u=I_{izq}$ en $x=x_{izq}$\n",
    "\n",
    "$-au' +k_{der}u=I_{der}$ en $x=x_{der}$\n",
    "\n",
    "\n",
    "donde $a$ es el coeficiente de difusión, y $k$ puede ser cualquier valor diferente a cero. El valor de $I$ puede obtenerse a partir de una solución manufacturada por medio del operador de esta condición de frontera. La idea es que pueda escribir 'Robin' como etiqueta de condición de frontera, y el programa lo interprete así como lo hace con 'Dirichlet' y 'Neumann'. Explique cómo se hallan las ecuaciones correspondientes, y cómo se ingresan en la matriz K y el vector F.\n",
    "\n",
    "2. Haga pruebas de su implementación con una de las soluciones manufacturadas, usando 'Robin' primero en un solo lado y luego en ambos lados, mostrando con la gráfica log-log que el error se reduce consistentemente a medida que h disminuye. En todos los casos use como coeficientes $a=1,b=0,c=1$.\n",
    "\n",
    "Puede realizarlo individualmente o en pareja.\n",
    "\n",
    "Plazo: 26 de abril, 23:59"
   ]
  },
  {
   "cell_type": "code",
   "execution_count": null,
   "metadata": {
    "id": "I84WmTdEZwsK"
   },
   "outputs": [],
   "source": [
    "import matplotlib.pyplot as plt\n",
    "import numpy as np\n",
    "\n",
    "def graf_solucion_continua(yt,a,b):\n",
    "  resol = 512\n",
    "  tn = np.linspace(a,b,resol + 1)\n",
    "  yn = np.zeros(resol+1)\n",
    "  for n in range(resol+1):\n",
    "    yn[n]=yt( tn[n] )\n",
    "  plt.plot(tn,yn,'-b')\n",
    "  plt.xlabel('x')\n",
    "  plt.ylabel('u')\n",
    "  plt.grid(True)\n",
    "\n",
    "def graf_solucion_discreta(th,yh):\n",
    "  # yh, th con longitud N+1 deben incluir valor inicial y0 y tiempo inicial t0\n",
    "  plt.plot(th,yh,':.r')"
   ]
  },
  {
   "cell_type": "code",
   "execution_count": null,
   "metadata": {
    "id": "HPiB2dfPauns"
   },
   "outputs": [],
   "source": [
    "def u_exacta(x):\n",
    "  match problema:\n",
    "    case 1:\n",
    "      u = x**2 - x\n",
    "    case 2:\n",
    "      u = np.exp(2*x)\n",
    "    case 3:\n",
    "      u = x**(5/2)\n",
    "    case 4:\n",
    "      L = 1\n",
    "      # asumimos que coef_b es constante y diferente de cero\n",
    "      u = 1- (1-np.exp(coef_b(x)*x))/(1-np.exp(coef_b(x)*L))\n",
    "  return u\n",
    "\n",
    "def du_exacta(x):\n",
    "  match problema:\n",
    "    case 1:\n",
    "      du = 2.0*x-1.0\n",
    "    case 2:\n",
    "      du = 2*np.exp(2*x)\n",
    "    case 3:\n",
    "      du = (5/2)*x**(3/2)\n",
    "    case 4:\n",
    "      L = 1\n",
    "      # asumimos que coef_b es constante y diferente de cero\n",
    "      du = coef_b(x)*np.exp(coef_b(x)*x)/(1-np.exp(coef_b(x)*L))\n",
    "  return du\n",
    "\n",
    "def d2u_exacta(x):\n",
    "  match problema:\n",
    "    case 1:\n",
    "      d2u = 2.0\n",
    "    case 2:\n",
    "      d2u = 4*np.exp(2*x)\n",
    "    case 3:\n",
    "      d2u = (15/4)*x**(1/2)\n",
    "    case 4:\n",
    "      L = 1\n",
    "      # asumimos que coef_b es constante y diferente de cero\n",
    "      d2u = coef_b(x)**2 *np.exp(coef_b(x)*x)/(1-np.exp(coef_b(x)*L))\n",
    "  return d2u\n",
    "\n",
    "def fuente(x):\n",
    "  if manufacturada:\n",
    "    # en este caso, se aplica el operador diferencial a solución manufacturada\n",
    "    f = -coef_a*d2u_exacta(x) + coef_b(x)*du_exacta(x) + coef_c(x)*u_exacta(x)\n",
    "  else:\n",
    "     # si no se usa solución manufacturada se debe dar el valor deseado para\n",
    "     # la carga de cada problema, con un match-case posiblemente\n",
    "    f = 1\n",
    "  return f\n",
    "\n",
    "def d_izq(x_izq):\n",
    "  if manufacturada:\n",
    "    d = u_exacta(x_izq)\n",
    "  else:\n",
    "     # si no se usa solución manufacturada se debe dar el valor deseado para\n",
    "     # la carga de cada problema, con un match-case posiblemente\n",
    "    d = 1\n",
    "  return d\n",
    "\n",
    "def d_der(x_der):\n",
    "  if manufacturada:\n",
    "    d = u_exacta(x_der)\n",
    "  else:\n",
    "     # si no se usa solución manufacturada se debe dar el valor deseado para\n",
    "     # la carga de cada problema, con un match-case posiblemente\n",
    "    d = 0\n",
    "  return d\n",
    "\n",
    "def g_izq(x_izq):\n",
    "  if manufacturada:\n",
    "    g = coef_a*du_exacta(x_izq)\n",
    "  else:\n",
    "     # si no se usa solución manufacturada se debe dar el valor deseado para\n",
    "     # la carga de cada problema, con un match-case posiblemente\n",
    "    g = 0\n",
    "  return g\n",
    "\n",
    "def g_der(x_der):\n",
    "  if manufacturada:\n",
    "    g = -coef_a*du_exacta(x_der)\n",
    "  else:\n",
    "     # si no se usa solución manufacturada se debe dar el valor deseado para\n",
    "     # la carga de cada problema, con un match-case posiblemente\n",
    "    g = 0\n",
    "  return g\n",
    "\n",
    "def I_der(x_der):\n",
    "  if manufacturada:\n",
    "    I = -coef_a*du_exacta(x_der)+Coef_k('der')*u_exacta(x_der)\n",
    "  else:\n",
    "     # si no se usa solución manufacturada se debe dar el valor deseado para\n",
    "     # la carga de cada problema, con un match-case posiblemente\n",
    "    I = 0\n",
    "  return I\n",
    "\n",
    "\n",
    "def I_izq(x_izq):\n",
    "  if manufacturada:\n",
    "    I = -coef_a*du_exacta(x_izq)+Coef_k('izq')*u_exacta(x_izq)\n",
    "  else:\n",
    "     # si no se usa solución manufacturada se debe dar el valor deseado para\n",
    "     # la carga de cada problema, con un match-case posiblemente\n",
    "    I = 0\n",
    "  return I\n",
    "\n",
    "def Coef_k(cond):\n",
    "    match cond:\n",
    "      case 'izq':\n",
    "        k=10\n",
    "      case 'der':\n",
    "        k=2\n",
    "    return k\n",
    "\n"
   ]
  },
  {
   "cell_type": "markdown",
   "metadata": {
    "id": "_BDTAlUr6RKK"
   },
   "source": [
    "ED\n",
    "$$\n",
    "(-a(x)u'(x))'+b(x)u'(x)+c(x)u(x) = f(x)\n",
    "$$\n",
    "Operador diferencial\n",
    "$$\n",
    "\\mathcal{L}y=(-a(x)y'(x))'+b(x)y'(x)+c(x)y(x)\n",
    "$$\n",
    "Ejemplo\n",
    "$$\n",
    "-u''+3u=f \\\\\n",
    "u(0)=d_{izq} \\\\\n",
    "-u'(1)=g_{der}\n",
    "$$"
   ]
  },
  {
   "cell_type": "markdown",
   "metadata": {
    "id": "7mmbt-EE9-9r"
   },
   "source": [
    "Ecuaciones para nodos internos\n",
    "\n",
    "$$\n",
    "-\\frac{a}{h^2}U_{i-1}+\\left(\\frac{2a}{h^2}+c\\right)U_i-\\frac{a}{h^2}U_{i+1}=f(x_i)\n",
    "$$\n",
    "\n",
    "Para la condición Dirichlet en la derecha\n",
    "$$\n",
    "U_0 = d_{izq}\n",
    "$$\n",
    "Para la condición Neumann en la izquierda\n",
    "$$\n",
    "\\frac{-2a}{h^2}U_{M-1}+\\left(\\frac{2a}{h^2}+c\\right)U_M=f(x_M)-g_{der}\\frac{2}{h}\n",
    "$$"
   ]
  },
  {
   "cell_type": "code",
   "execution_count": null,
   "metadata": {
    "id": "mrT99YhB8zpH"
   },
   "outputs": [],
   "source": [
    "def MDF(x_izq,cond_izq,x_der,cond_der,M):\n",
    "  # creamos nodos y calculamos h\n",
    "  x_nod=np.linspace(x_izq,x_der,M+1)\n",
    "  h= (x_der-x_izq)/float(M)\n",
    "\n",
    "  # Empezamos a armar una matriz M+1 x M+1 K,\n",
    "  # y un vector de términos independientes F\n",
    "  # La idea es resolver sistema K U = F, donde U contiene las soluciones nodales\n",
    "\n",
    "  # inicializamos\n",
    "  K = np.zeros((M+1,M+1))\n",
    "  F = np.zeros(M+1)\n",
    "  U = np.zeros(M+1)\n",
    "\n",
    "  # Primero llenamos ecuaciones para los nodos internos  1,2,3,...,M-1\n",
    "  for i in range(1,M):    # fila i de matriz K y vector F\n",
    "    K[i][i-1] = -coef_a / h**2\n",
    "    K[i][i]   = 2*coef_a/h**2 + coef_c(x_nod[i])\n",
    "    K[i][i+1] = -coef_a / h**2\n",
    "    F[i]      = fuente(x_nod[i])\n",
    "\n",
    "    # agregamos discretización del término de advección\n",
    "    # # DF centradas   b ( U_{i+1} - U_{i-1} ) / 2h\n",
    "    # K[i][i+1] +=  coef_b(x_nod[i]) / (2*h)\n",
    "    # K[i][i-1] += -coef_b(x_nod[i]) / (2*h)\n",
    "    if   coef_b(x_nod[i])<0:\n",
    "      # DF progresivas   b ( U_{i+1} - U_{i} ) / h\n",
    "      K[i][i+1] +=  coef_b(x_nod[i]) / (h)\n",
    "      K[i][i]   += -coef_b(x_nod[i]) / (h)\n",
    "    elif coef_b(x_nod[i])>0:\n",
    "      # DF regresivas   b ( U_{i} - U_{i-1} ) / h\n",
    "      K[i][i]   +=  coef_b(x_nod[i]) / (h)\n",
    "      K[i][i-1] += -coef_b(x_nod[i]) / (h)\n",
    "\n",
    "\n",
    "  # Ahora, condición en extremo izquierdo ----> fila 0 de matriz K y vector F\n",
    "  match cond_izq:\n",
    "    case 'Dirichlet':\n",
    "    # Condición Dirichlet\n",
    "      K[0][0] = 1.0\n",
    "      F[0]    = d_izq(x_izq)\n",
    "    case 'Neumann':\n",
    "    # Condición Neumann\n",
    "      K[0][0] = 2*coef_a/h**2 + coef_c(x_izq)\n",
    "      K[0][1] = -2*coef_a/h**2\n",
    "      F[0]    = fuente(x_izq)-g_izq(x_izq) * 2.0 / h\n",
    "    case 'Robin':\n",
    "    # Condición Robin\n",
    "      K[0][0] = 2*coef_a/h**2 + coef_c(x_izq) -2*Coef_k('izq')/h\n",
    "      K[0][1] = -2*coef_a/h**2\n",
    "      F[0]    = fuente(x_izq)-I_izq(x_izq) * 2.0 / h\n",
    "\n",
    "\n",
    "\n",
    "    # término de advección\n",
    "      if   coef_b(x_izq)<0:\n",
    "        K[0][1] +=  coef_b(x_izq) / (h)\n",
    "        K[0][0] += -coef_b(x_izq) / (h)\n",
    "      elif coef_b(x_izq)>0:\n",
    "        K[0][0] +=  coef_b(x_izq) / (h)\n",
    "        F[0]    += -g_izq(x_izq) * coef_b(x_izq) / coef_a\n",
    "  # Ahora, condición en extremo derecho ----> fila M de matriz K y vector F\n",
    "  match cond_der:\n",
    "    case 'Dirichlet':\n",
    "    # Condición Dirichlet\n",
    "      K[M][M] = 1.0\n",
    "      F[M]    = d_der(x_der)\n",
    "    case 'Neumann':\n",
    "    # Condición Neumann\n",
    "      K[M][M-1]= -2*coef_a/h**2\n",
    "      K[M][M]  = 2*coef_a/h**2 + coef_c(x_der)\n",
    "      F[M]     = fuente(x_der)-g_der(x_der) *2.0 / h\n",
    "    case 'Robin':\n",
    "    # Condición Robin\n",
    "      K[M][M-1]= -2*coef_a/h**2\n",
    "      K[M][M]  = 2*coef_a/h**2 + coef_c(x_der)-2*Coef_k('der')/h\n",
    "      F[M]     = fuente(x_der)-I_der(x_der) *2.0 / h\n",
    "\n",
    "\n",
    "\n",
    "# término de advección\n",
    "      if   coef_b(x_izq)<0:\n",
    "        K[M][M]   +=  coef_b(x_der) / (h)\n",
    "        F[M]      += -g_izq(x_der) * coef_b(x_der) / coef_a\n",
    "      elif coef_b(x_izq)>0:\n",
    "        K[M][M-1] += -coef_b(x_der) / (h)\n",
    "        K[M][M]   +=  coef_b(x_der) / (h)\n",
    "    # Se debería modificar también las ecuaciones para estos nodos para incluir el término de adveción\n",
    "\n",
    "\n",
    "  # Resuelvo sistema\n",
    "  U = np.linalg.solve(K,F)\n",
    "\n",
    "  return x_nod,U   #   lista de nodos, lista de soluciones nodales\n"
   ]
  },
  {
   "cell_type": "markdown",
   "metadata": {
    "id": "-VTs9lyPugGT"
   },
   "source": [
    "\n",
    "La ecuación diferencial\n",
    "$$\n",
    "-u''=f\n",
    "$$\n",
    "conocida como la ecuación de Poisson (no hay convección ni reacción), no tiene única solución cuando solo se trata de aplicar condiciones de frontera Neumann. Necesitamos condición Dirichlet o Robin al menos en una parte de la frontera.\n",
    "\n",
    "El método de diferencias finitas hereda esa situación, pues la matriz de rigidez se vuelve singular (no invertible) cuando solo se aplican condiciones Neumann."
   ]
  },
  {
   "cell_type": "code",
   "execution_count": null,
   "metadata": {
    "colab": {
     "base_uri": "https://localhost:8080/",
     "height": 449
    },
    "executionInfo": {
     "elapsed": 523,
     "status": "ok",
     "timestamp": 1714226765755,
     "user": {
      "displayName": "Phawllyn Parra",
      "userId": "00866368059240115377"
     },
     "user_tz": 300
    },
    "id": "ygMdw3V1aVLy",
    "outputId": "165fedb7-339b-4404-a566-66fb9ef94e28"
   },
   "outputs": [
    {
     "data": {
      "image/png": "[encoded data removed]",
      "text/plain": [
       "<Figure size 640x480 with 1 Axes>"
      ]
     },
     "metadata": {},
     "output_type": "display_data"
    }
   ],
   "source": [
    "problema = 4\n",
    "manufacturada = True\n",
    "# asumimos un coeficiente de difusión constante\n",
    "coef_a = 1.0\n",
    "# pero los de convección (advección) y reacción sí pueden ser variables, según la ubicación del punto x\n",
    "coef_b = lambda x : 1.0\n",
    "coef_c = lambda x : 0\n",
    "\n",
    "x_izq = 0.0\n",
    "cond_izq = 'Dirichlet'    #  los valores son 'Dirichlet' o 'Neumann'\n",
    "x_der = 1.0\n",
    "cond_der = 'Dirichlet'    #  los valores son 'Dirichlet' o 'Neumann'\n",
    "\n",
    "M = 32\n",
    "\n",
    "x_nod,U = MDF(x_izq,cond_izq,x_der,cond_der,M)\n",
    "\n",
    "# para graficar sol continua\n",
    "if manufacturada:\n",
    "  graf_solucion_continua(u_exacta,x_izq,x_der)\n",
    "\n",
    "graf_solucion_discreta(x_nod,U)\n",
    "\n"
   ]
  },
  {
   "cell_type": "code",
   "execution_count": null,
   "metadata": {
    "colab": {
     "base_uri": "https://localhost:8080/",
     "height": 434
    },
    "executionInfo": {
     "elapsed": 1588,
     "status": "ok",
     "timestamp": 1714226767341,
     "user": {
      "displayName": "Phawllyn Parra",
      "userId": "00866368059240115377"
     },
     "user_tz": 300
    },
    "id": "mwjrOoA5IOFD",
    "outputId": "a1eedcb6-524e-4f1d-ae4b-9899b9b36f85"
   },
   "outputs": [
    {
     "data": {
      "image/png": "[encoded data removed]",
      "text/plain": [
       "<Figure size 640x480 with 1 Axes>"
      ]
     },
     "metadata": {},
     "output_type": "display_data"
    }
   ],
   "source": [
    "niveles = 11\n",
    "\n",
    "lista_h = []\n",
    "lista_e = []\n",
    "\n",
    "for i in range(1,niveles+1):\n",
    "  M = 2**i\n",
    "  lista_h.append((x_der-x_izq)/M)\n",
    "  x_nod,U = MDF(x_izq,cond_izq,x_der,cond_der,M)\n",
    "  lista_e.append( np.linalg.norm(U-u_exacta(x_nod),np.inf) )\n",
    "\n",
    "plt.loglog(lista_h,lista_e,':.r')\n",
    "plt.grid(True)"
   ]
  },
  {
   "cell_type": "markdown",
   "metadata": {
    "id": "8nxJ9ZzyYiJO"
   },
   "source": [
    "# Tarea 6\n",
    "\n",
    "1. Implemente la condición de frontera tipo Robin:\n",
    "\n",
    "$au' +k_{izq}u=I_{izq}$ en $x=x_{izq}$\n",
    "\n",
    "$-au' +k_{der}u=I_{der}$ en $x=x_{der}$\n",
    "\n",
    "\n",
    "donde $a$ es el coeficiente de difusión, y $k$ puede ser cualquier valor diferente a cero. El valor de $I$ puede obtenerse a partir de una solución manufacturada por medio del operador de esta condición de frontera. La idea es que pueda escribir 'Robin' como etiqueta de condición de frontera, y el programa lo interprete así como lo hace con 'Dirichlet' y 'Neumann'. Explique cómo se hallan las ecuaciones correspondientes, y cómo se ingresan en la matriz K y el vector F.\n",
    "\n",
    "2. Haga pruebas de su implementación con una de las soluciones manufacturadas, usando 'Robin' primero en un solo lado y luego en ambos lados, mostrando con la gráfica log-log que el error se reduce consistentemente a medida que h disminuye. En todos los casos use como coeficientes $a=1,b=0,c=1$.\n",
    "\n",
    "Puede realizarlo individualmente o en pareja.\n",
    "\n",
    "Plazo: 26 de abril, 23:59"
   ]
  },
  {
   "cell_type": "markdown",
   "metadata": {
    "id": "4TZ29__BZYet"
   },
   "source": [
    "#Solución\n",
    "\n",
    "1.  Las condiciones de frontera tipo **Robin**\n",
    "para la condición  izquierda\n",
    "$$a(x_{izq})u'(x_{izq}) +k_{izq}u(x_{izq})=I_{izq}$$\n",
    " y para la  condición derecha\n",
    "$$-a(x_{der})u'(x_{der}) +k_{der}u(x_{der})=I_{der}$$\n",
    "\n",
    " con $k\\not = 0$\n",
    "\n",
    " teniendo en cuenta el termino de iteración de diferecias centradas para la primera derivada\n",
    "\n",
    " $$D_h^c\\rightarrow u'(x_i)=\\frac{U_{i+1}-U_{i-1}}{2h}$$\n",
    "\n",
    " Reescribimos  las condiciones de frontera por\n",
    "izquierda $x_{izq}=x_0$\n",
    "\n",
    "$$a \\frac{U_{1}-U_{-1}}{2h} +k_{izq}U_0=I_{izq}$$\n",
    "\n",
    "despejamos el  termino auxiliar $U_{-1}$ tenemos\n",
    "\n",
    " $$ U_{-1} =U_{1}-\\frac{2h}{a}(I_{izq}-k_{izq}U_0)$$\n",
    "\n",
    " sustituyendo este  termino en la ecuacion  para  nodos internos$\n",
    "-\\frac{a}{h^2}U_{i-1}+\\left(\\frac{2a}{h^2}+c\\right)U_i-\\frac{a}{h^2}U_{i+1}=f(x_i)$ con $x_0$ como uno de ellos\n",
    "\n",
    " tenemos:\n",
    "\n",
    "\n",
    "$$\n",
    "-\\frac{a}{h^2}\\left(U_{1}-\\frac{2h}{a}(I_{izq}-k_{izq}U_0)\\right)+\\left(\\frac{2a}{h^2}+c\\right)U_0-\\frac{a}{h^2}U_{1}=f(x_0)\n",
    "$$\n",
    "\n",
    " $$\n",
    "-\\frac{a}{h^2}U_{1}+\\frac{2}{h}(I_{izq}-k_{izq}U_0)+\\frac{2a U_0}{h^2}+cU_0-\\frac{a}{h^2}U_{1}=f(x_0)\n",
    "$$\n",
    "\n",
    "asi tendriamos para la condición del lado  izquierdo\n",
    "\n",
    " $$\n",
    "\\left(c-\\frac{2}{h}k_{izq}+\\frac{2a}{h^2}\\right)U_0-\\left(\\frac{2a}{h^2}\\right)U_1=f(x_0)-\\frac{2}{h}I_{izq}\n",
    "$$\n",
    "\n"
   ]
  },
  {
   "cell_type": "markdown",
   "metadata": {
    "id": "D-bAh64v38pH"
   },
   "source": [
    ">>y analogamente para el lado derecho tenemos\n",
    " $x_{der}=x_M$\n",
    "\n",
    "$$-a \\frac{U_{M+1}-U_{M-1}}{2h} +k_{der}U_M=I_{der}$$\n",
    "\n",
    "despejamos el  termino auxiliar $U_{M+1}$  y tenemos\n",
    "\n",
    "$$U_{M+1} =U_{M-1}-\\frac{2h}{a}(I_{der}-k_{der}U_M)$$\n",
    "\n",
    "sustituyendo este  termino en la ecuacion  para  nodos internos con $x_M$ como uno de ellos , tenemos:\n",
    "\n",
    "$$\n",
    "-\\frac{a}{h^2}U_{M-1}+\\left(\\frac{2a}{h^2}+c\\right)U_M-\\frac{a}{h^2}\\left(U_{M-1}-\\frac{2h}{a}(I_{der}-k_{der}U_M)\\right)=f(x_M)\n",
    "$$\n",
    "\n",
    "$$\n",
    "-\\frac{a}{h^2}U_{M-1}+\\frac{2a}{h^2}U_M+cU_M-\\frac{a}{h^2}U_{M-1}+\\frac{2}{h}(I_{der}-k_{der}U_M)=f(x_M)\n",
    "$$\n",
    "\n",
    "asi tendriamos para la condición del lado derecho\n",
    "\n",
    " $$\n",
    "\\left(c-\\frac{2}{h}k_{izq}+\\frac{2a}{h^2}\\right)U_M-\\left(\\frac{2a}{h^2}\\right)U_{M-1}=f(x_M)-\\frac{2}{h}I_{der}\n",
    "$$\n"
   ]
  },
  {
   "cell_type": "markdown",
   "metadata": {
    "id": "axI1fP-hhvFO"
   },
   "source": [
    " teniendo en cuenta la forma de las condiciones podemos  adaptar la matriz $K$ y el vector $F$    de la misma forma que con las condiciones de Neuman,con una correción en   $K[0][0]$  y $K[M][M]$  restandole $\\frac{-2k}{h}$"
   ]
  },
  {
   "cell_type": "markdown",
   "metadata": {
    "id": "ZlmaJ0X-v91h"
   },
   "source": [
    "## punto 2\n",
    " por  izquierda"
   ]
  },
  {
   "cell_type": "code",
   "execution_count": null,
   "metadata": {
    "colab": {
     "base_uri": "https://localhost:8080/",
     "height": 449
    },
    "executionInfo": {
     "elapsed": 416,
     "status": "ok",
     "timestamp": 1714227315240,
     "user": {
      "displayName": "Phawllyn Parra",
      "userId": "00866368059240115377"
     },
     "user_tz": 300
    },
    "id": "P3tnXvXpr4i0",
    "outputId": "56871996-0d90-4857-8cb6-2f10024537ef"
   },
   "outputs": [
    {
     "data": {
      "image/png": "[encoded data removed]",
      "text/plain": [
       "<Figure size 640x480 with 1 Axes>"
      ]
     },
     "metadata": {},
     "output_type": "display_data"
    }
   ],
   "source": [
    "problema = 3\n",
    "manufacturada = True\n",
    "# asumimos un coeficiente de difusión constante\n",
    "coef_a = 1.0\n",
    "# pero los de convección (advección) y reacción sí pueden ser variables, según la ubicación del punto x\n",
    "coef_b = lambda x : 1.0\n",
    "coef_c = lambda x : 0\n",
    "\n",
    "x_izq = 0.0\n",
    "cond_izq =  'Dirichlet'  #  los valores son 'Dirichlet' o 'Neumann'\n",
    "x_der = 1.0\n",
    "cond_der = 'Robin'     #  los valores son 'Dirichlet' o 'Neumann'\n",
    "\n",
    "M = 32\n",
    "\n",
    "x_nod,U = MDF(x_izq,cond_izq,x_der,cond_der,M)\n",
    "\n",
    "# para graficar sol continua\n",
    "if manufacturada:\n",
    "  graf_solucion_continua(u_exacta,x_izq,x_der)\n",
    "\n",
    "graf_solucion_discreta(x_nod,U)\n"
   ]
  },
  {
   "cell_type": "code",
   "execution_count": null,
   "metadata": {
    "colab": {
     "base_uri": "https://localhost:8080/",
     "height": 457
    },
    "executionInfo": {
     "elapsed": 1175,
     "status": "ok",
     "timestamp": 1714226768777,
     "user": {
      "displayName": "Phawllyn Parra",
      "userId": "00866368059240115377"
     },
     "user_tz": 300
    },
    "id": "3LSEbh74vfOC",
    "outputId": "7684964d-265a-4e62-8f52-ad1bbd9e2db5"
   },
   "outputs": [
    {
     "data": {
      "image/png": "[encoded data removed]",
      "text/plain": [
       "<Figure size 640x480 with 1 Axes>"
      ]
     },
     "metadata": {},
     "output_type": "display_data"
    }
   ],
   "source": [
    "niveles = 11\n",
    "\n",
    "lista_h = []\n",
    "lista_e = []\n",
    "\n",
    "for i in range(1,niveles+1):\n",
    "  M = 2**i\n",
    "  lista_h.append((x_der-x_izq)/M)\n",
    "  x_nod,U = MDF(x_izq,cond_izq,x_der,cond_der,M)\n",
    "  lista_e.append( np.linalg.norm(U-u_exacta(x_nod),np.inf) )\n",
    "\n",
    "plt.loglog(lista_h,lista_e,':.r')\n",
    "plt.title(\"error\")\n",
    "plt.grid(True)"
   ]
  },
  {
   "cell_type": "markdown",
   "metadata": {
    "id": "h0BvJYW3wB-w"
   },
   "source": [
    "###por ambos lados"
   ]
  },
  {
   "cell_type": "code",
   "execution_count": null,
   "metadata": {
    "colab": {
     "base_uri": "https://localhost:8080/",
     "height": 449
    },
    "executionInfo": {
     "elapsed": 552,
     "status": "ok",
     "timestamp": 1714227588690,
     "user": {
      "displayName": "Phawllyn Parra",
      "userId": "00866368059240115377"
     },
     "user_tz": 300
    },
    "id": "A9p9JJsbyYg7",
    "outputId": "c2d74e3e-9aad-4260-f46d-81afda9271b9"
   },
   "outputs": [
    {
     "data": {
      "image/png": "[encoded data removed]",
      "text/plain": [
       "<Figure size 640x480 with 1 Axes>"
      ]
     },
     "metadata": {},
     "output_type": "display_data"
    }
   ],
   "source": [
    "problema = 3\n",
    "manufacturada = True\n",
    "# asumimos un coeficiente de difusión constante\n",
    "coef_a = 1.0\n",
    "# pero los de convección (advección) y reacción sí pueden ser variables, según la ubicación del punto x\n",
    "coef_b = lambda x : 1.0\n",
    "coef_c = lambda x : 0\n",
    "\n",
    "x_izq = 0.0\n",
    "cond_izq =  'Robin'  #  los valores son 'Dirichlet' o 'Neumann'\n",
    "x_der = 1.0\n",
    "cond_der = 'Robin'     #  los valores son 'Dirichlet' o 'Neumann'\n",
    "\n",
    "M = 32\n",
    "\n",
    "x_nod,U = MDF(x_izq,cond_izq,x_der,cond_der,M)\n",
    "\n",
    "# para graficar sol continua\n",
    "if manufacturada:\n",
    "  graf_solucion_continua(u_exacta,x_izq,x_der)\n",
    "\n",
    "graf_solucion_discreta(x_nod,U)"
   ]
  },
  {
   "cell_type": "code",
   "execution_count": null,
   "metadata": {
    "colab": {
     "base_uri": "https://localhost:8080/",
     "height": 457
    },
    "executionInfo": {
     "elapsed": 1318,
     "status": "ok",
     "timestamp": 1714227592418,
     "user": {
      "displayName": "Phawllyn Parra",
      "userId": "00866368059240115377"
     },
     "user_tz": 300
    },
    "id": "LGtZV6AiygTq",
    "outputId": "1e669373-dd8d-4eec-e214-7a4c3b4fb8c4"
   },
   "outputs": [
    {
     "data": {
      "image/png": "[encoded data removed]",
      "text/plain": [
       "<Figure size 640x480 with 1 Axes>"
      ]
     },
     "metadata": {},
     "output_type": "display_data"
    }
   ],
   "source": [
    "niveles = 11\n",
    "\n",
    "lista_h = []\n",
    "lista_e = []\n",
    "\n",
    "for i in range(1,niveles+1):\n",
    "  M = 2**i\n",
    "  lista_h.append((x_der-x_izq)/M)\n",
    "  x_nod,U = MDF(x_izq,cond_izq,x_der,cond_der,M)\n",
    "  lista_e.append( np.linalg.norm(U-u_exacta(x_nod),np.inf) )\n",
    "\n",
    "plt.loglog(lista_h,lista_e,':.r')\n",
    "plt.title(\"error\")\n",
    "plt.grid(True)"
   ]
  }
 ],
 "metadata": {
  "colab": {
   "provenance": [
    {
     "file_id": "10Uw1imiAoGiL3WQlgTvPhYV1rWVMpN13",
     "timestamp": 1714067359594
    }
   ]
  },
  "kernelspec": {
   "display_name": "Python 3 (ipykernel)",
   "language": "python",
   "name": "python3"
  },
  "language_info": {
   "name": "python"
  }
 },
 "nbformat": 4,
 "nbformat_minor": 4
}
