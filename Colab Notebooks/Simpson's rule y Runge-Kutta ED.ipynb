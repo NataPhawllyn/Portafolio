{
 "cells": [
  {
   "cell_type": "markdown",
   "metadata": {},
   "source": [
    "Implemetación de metodos  numericos  para  integrar Ecuaciones  diferenciales  con   Simpson's rule y Runge-Kutta"
   ]
  },
  {
   "cell_type": "code",
   "execution_count": 1,
   "metadata": {
    "colab": {
     "base_uri": "https://localhost:8080/"
    },
    "executionInfo": {
     "elapsed": 5,
     "status": "ok",
     "timestamp": 1709387374557,
     "user": {
      "displayName": "Phawllyn Parra",
      "userId": "00866368059240115377"
     },
     "user_tz": 300
    },
    "id": "xBHpZadzbA9k",
    "outputId": "5deb833f-029c-436a-f226-b3daa39e3d40"
   },
   "outputs": [
    {
     "name": "stdout",
     "output_type": "stream",
     "text": [
      "The approximate integral of f(x) between -1 and 1 is: 1.4936482682406362\n"
     ]
    }
   ],
   "source": [
    "# prompt: make and implementation of simpson method to aproximate  integrals\n",
    "\n",
    "import math\n",
    "\n",
    "def simpson(f, a, b, n):\n",
    "  \"\"\"\n",
    "  This function approximates the integral of a function f(x) between\n",
    "  a and b using Simpson's rule with n subintervals.\n",
    "\n",
    "  Args:\n",
    "    f: The function to be integrated.\n",
    "    a: The lower bound of integration.\n",
    "    b: The upper bound of integration.\n",
    "    n: The number of subintervals.\n",
    "\n",
    "  Returns:\n",
    "    The approximate integral of f(x) between a and b.\n",
    "  \"\"\"\n",
    "\n",
    "  # Check that n is even\n",
    "  if n % 2 != 0:\n",
    "    raise ValueError(\"n must be even\")\n",
    "\n",
    "  # Calculate the step size\n",
    "  h = (b - a) / n\n",
    "\n",
    "  # Initialize the sum\n",
    "  sum = 0.0\n",
    "\n",
    "  # Add the first and last terms\n",
    "  sum += f(a) + f(b)\n",
    "\n",
    "  # Add the even terms\n",
    "  for i in range(2, n, 2):\n",
    "    sum += 2 * f(a + i * h)\n",
    "\n",
    "  # Add the odd terms\n",
    "  for i in range(1, n, 2):\n",
    "    sum += 4 * f(a + i * h)\n",
    "\n",
    "  # Multiply by the step size and divide by 3\n",
    "  return sum * h / 3\n",
    "\n",
    "# Example usage\n",
    "def f(x):\n",
    "  return math.exp(-x**2)\n",
    "\n",
    "a = -1\n",
    "b = 1\n",
    "n = 100\n",
    "\n",
    "integral = simpson(f, a, b, n)\n",
    "\n",
    "print(\"The approximate integral of f(x) between\", a, \"and\", b, \"is:\", integral)\n"
   ]
  },
  {
   "cell_type": "code",
   "execution_count": null,
   "metadata": {
    "id": "vskZhJZXj6di"
   },
   "outputs": [],
   "source": [
    "# prompt: method of  runge-Kutta four stages\n",
    "\n",
    "\n",
    "def runge_kutta_4(f, x0, y0, h, n):\n",
    "  \"\"\"\n",
    "  This function approximates the solution of the initial value problem\n",
    "  y' = f(x, y), y(x0) = y0, using the Runge-Kutta method with n steps.\n",
    "\n",
    "  Args:\n",
    "    f: The function f(x, y).\n",
    "    x0: The initial value of x.\n",
    "    y0: The initial value of y.\n",
    "    h: The step size.\n",
    "    n: The number of steps.\n",
    "\n",
    "  Returns:\n",
    "    A list of approximations to the solution at each step.\n",
    "  \"\"\"\n",
    "\n",
    "  # Initialize the list of approximations\n",
    "  y = [y0]\n",
    "\n",
    "  # Iterate through the steps\n",
    "  for i in range(n):\n",
    "    # Calculate the four k values\n",
    "    k1 = f(x0, y[i])\n",
    "    k2 = f(x0 + h / 2, y[i] + h * k1 / 2)\n",
    "    k3 = f(x0 + h / 2, y[i] + h * k2 / 2)\n",
    "    k4 = f(x0 + h, y[i] + h * k3)\n",
    "\n",
    "    # Update the approximation\n",
    "    y.append(y[i] + h * (k1 + 2 * k2 + 2 * k3 + k4) / 6)\n",
    "\n",
    "    # Update the value of x\n",
    "    x0 += h\n",
    "\n",
    "  # Return the list of approximations\n",
    "  return y\n",
    "\n",
    "# Example usage\n",
    "def f(x, y):\n",
    "  return x + y\n",
    "\n",
    "x0 = 0\n",
    "y0 = 1\n",
    "h = 0.1\n",
    "n = 10\n",
    "\n",
    "solution = runge_kutta_4(f, x0, y0, h, n)\n",
    "\n",
    "print(\"The approximate solution at each step is:\", solution)\n"
   ]
  }
 ],
 "metadata": {
  "colab": {
   "authorship_tag": "ABX9TyPRh359ne4nPZy2xE41O9wa",
   "provenance": []
  },
  "kernelspec": {
   "display_name": "Python 3 (ipykernel)",
   "language": "python",
   "name": "python3"
  },
  "language_info": {
   "name": "python"
  }
 },
 "nbformat": 4,
 "nbformat_minor": 4
}
