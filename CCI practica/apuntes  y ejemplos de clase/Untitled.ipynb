{
 "cells": [
  {
   "cell_type": "code",
   "execution_count": null,
   "id": "ecbdcdd2-8a65-41c0-a64a-c770648e1f8d",
   "metadata": {},
   "outputs": [],
   "source": [
    "import  numpy as  np \n",
    "\n",
    "X=np.linspace(0,L,N)\n",
    "\n",
    "\n",
    "\n",
    "if __name__ == '__main__':\n",
    "    "
   ]
  }
 ],
 "metadata": {
  "kernelspec": {
   "display_name": "Python 3 (ipykernel)",
   "language": "python",
   "name": "python3"
  },
  "language_info": {
   "codemirror_mode": {
    "name": "ipython",
    "version": 3
   },
   "file_extension": ".py",
   "mimetype": "text/x-python",
   "name": "python",
   "nbconvert_exporter": "python",
   "pygments_lexer": "ipython3",
   "version": "3.9.13"
  }
 },
 "nbformat": 4,
 "nbformat_minor": 5
}
